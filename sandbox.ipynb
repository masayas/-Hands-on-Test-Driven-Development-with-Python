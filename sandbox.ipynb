{
  "cells": [
    {
      "cell_type": "markdown",
      "metadata": {
        "pycharm": {}
      },
      "source": "# About \n\nThis is just a practice sandbox to understand the use of Mock and pytest\n\n## References\n\n[Understanding Unittest.Mock\n by Mario Corchero[Video]](https://learning.oreilly.com/videos/understanding-unittest-mock/9781484244135)\n \n [Hands-On Test Driven Development with Python [Video]](https://www.packtpub.com/application-development/hands-test-driven-development-python-video?utm_source\u003dgithub\u0026utm_medium\u003drepository\u0026utm_campaign\u003d9781789138313) \n \n [まだmockで消耗してるの？mockを理解するための3つのポイント](https://note.crohaco.net/2015/python-mock/)"
    },
    {
      "cell_type": "code",
      "execution_count": 2,
      "metadata": {
        "pycharm": {
          "is_executing": false
        }
      },
      "outputs": [],
      "source": [
        "from unittest.mock import patch, Mock"
      ]
    },
    {
      "cell_type": "markdown",
      "metadata": {
        "pycharm": {}
      },
      "source": [
        "### mock patch examples"
      ]
    },
    {
      "cell_type": "code",
      "execution_count": 2,
      "metadata": {
        "pycharm": {}
      },
      "outputs": [],
      "source": [
        "class MyClass():\n",
        "    def my_method(self):\n",
        "        return False\n",
        " \n",
        "class SomeOtherClassThatUsesMyClass():\n",
        "    def method_under_test(self):\n",
        "        myclass \u003d MyClass()\n",
        "        return myclass.my_method()"
      ]
    },
    {
      "cell_type": "code",
      "execution_count": 3,
      "metadata": {
        "pycharm": {}
      },
      "outputs": [],
      "source": [
        "@patch.object(MyClass, \u0027my_method\u0027)\n",
        "def test_my_method_shouldReturnTrue_whenMyMethodReturnsSomeValue(self, mock_my_method):\n",
        "    mock_my_method.return_value\u003dTrue\n",
        "    some_other_class \u003d  SomeOtherClassThatUsesMyClass()\n",
        "    result \u003d some_other_class.method_under_test()\n",
        "    print(result)\n",
        "    self.assertTrue(result)"
      ]
    },
    {
      "cell_type": "code",
      "execution_count": 4,
      "metadata": {
        "pycharm": {}
      },
      "outputs": [
        {
          "name": "stdout",
          "output_type": "stream",
          "text": [
            "False\n"
          ]
        }
      ],
      "source": [
        "my_test_class \u003d SomeOtherClassThatUsesMyClass()\n",
        "result \u003d my_test_class.method_under_test()\n",
        "print(result)"
      ]
    },
    {
      "cell_type": "code",
      "execution_count": 5,
      "metadata": {
        "pycharm": {}
      },
      "outputs": [
        {
          "name": "stdout",
          "output_type": "stream",
          "text": [
            "True\n"
          ]
        }
      ],
      "source": [
        "with patch.object(MyClass, \u0027my_method\u0027) as mock_my_method:\n",
        "    mock_my_method.return_value\u003dTrue\n",
        "    my_test_class \u003d SomeOtherClassThatUsesMyClass()\n",
        "    result \u003d my_test_class.method_under_test()\n",
        "    print(result)"
      ]
    },
    {
      "cell_type": "code",
      "execution_count": 6,
      "metadata": {
        "pycharm": {}
      },
      "outputs": [],
      "source": [
        "sample_mock \u003d Mock(a\u003d1, b\u003d2)"
      ]
    },
    {
      "cell_type": "code",
      "execution_count": 7,
      "metadata": {
        "pycharm": {}
      },
      "outputs": [
        {
          "data": {
            "text/plain": [
              "(1, 2)"
            ]
          },
          "execution_count": 7,
          "metadata": {},
          "output_type": "execute_result"
        }
      ],
      "source": [
        "sample_mock.a, sample_mock.b"
      ]
    },
    {
      "cell_type": "code",
      "execution_count": 8,
      "metadata": {
        "pycharm": {}
      },
      "outputs": [],
      "source": [
        "sample_mock \u003d Mock(return_value\u003d5)"
      ]
    },
    {
      "cell_type": "code",
      "execution_count": 9,
      "metadata": {
        "pycharm": {}
      },
      "outputs": [
        {
          "data": {
            "text/plain": [
              "5"
            ]
          },
          "execution_count": 9,
          "metadata": {},
          "output_type": "execute_result"
        }
      ],
      "source": [
        "sample_mock()"
      ]
    },
    {
      "cell_type": "code",
      "execution_count": 10,
      "metadata": {
        "pycharm": {}
      },
      "outputs": [],
      "source": [
        "sample_mock \u003d Mock(side_effect\u003drange(2))"
      ]
    },
    {
      "cell_type": "code",
      "execution_count": 11,
      "metadata": {
        "pycharm": {}
      },
      "outputs": [
        {
          "data": {
            "text/plain": [
              "0"
            ]
          },
          "execution_count": 11,
          "metadata": {},
          "output_type": "execute_result"
        }
      ],
      "source": [
        "sample_mock()"
      ]
    },
    {
      "cell_type": "code",
      "execution_count": 12,
      "metadata": {
        "pycharm": {}
      },
      "outputs": [],
      "source": [
        "sample_mock \u003d Mock(return_value\u003dValueError)"
      ]
    },
    {
      "cell_type": "code",
      "execution_count": 13,
      "metadata": {
        "pycharm": {}
      },
      "outputs": [
        {
          "data": {
            "text/plain": [
              "ValueError"
            ]
          },
          "execution_count": 13,
          "metadata": {},
          "output_type": "execute_result"
        }
      ],
      "source": [
        "sample_mock()"
      ]
    },
    {
      "cell_type": "markdown",
      "metadata": {
        "pycharm": {}
      },
      "source": [
        "### patch dict example"
      ]
    },
    {
      "cell_type": "code",
      "execution_count": 14,
      "metadata": {
        "pycharm": {}
      },
      "outputs": [
        {
          "name": "stdout",
          "output_type": "stream",
          "text": [
            "{\u0027a\u0027: 1} 4393935784\n",
            "{\u0027a\u0027: 1, \u0027b\u0027: 2, \u0027c\u0027: 3} 4393935784\n"
          ]
        }
      ],
      "source": [
        "d \u003d {\u0027a\u0027: 1} #note the id!\n",
        "print(d, id(d))\n",
        "\n",
        "with patch.dict(d, {\u0027b\u0027: 2, \u0027c\u0027: 3}):\n",
        "    print(d, id(d))"
      ]
    },
    {
      "cell_type": "markdown",
      "metadata": {
        "pycharm": {}
      },
      "source": [
        "### patch object example \n",
        "it can swap attributes within local variables, which is not possible with patch "
      ]
    },
    {
      "cell_type": "code",
      "execution_count": 15,
      "metadata": {
        "pycharm": {}
      },
      "outputs": [],
      "source": [
        "def test():\n",
        "    test1 \u003d Test()\n",
        "    test2 \u003d Test()\n",
        "    with patch.object(test1, \u0027a\u0027, 2):\n",
        "        print(test1.a)\n",
        "        print(test2.a)\n",
        "    with patch.object(test1, \u0027class_method\u0027, return_value\u003dFalse):\n",
        "        print(test1.class_method())"
      ]
    },
    {
      "cell_type": "markdown",
      "metadata": {
        "pycharm": {}
      },
      "source": [
        "### mock - various ways of use"
      ]
    },
    {
      "cell_type": "code",
      "execution_count": 16,
      "metadata": {
        "pycharm": {}
      },
      "outputs": [
        {
          "data": {
            "text/plain": [
              "\u003cMock name\u003d\u0027mock()\u0027 id\u003d\u00274393972344\u0027\u003e"
            ]
          },
          "execution_count": 16,
          "metadata": {},
          "output_type": "execute_result"
        }
      ],
      "source": [
        "m \u003d Mock()\n",
        "m(1)"
      ]
    },
    {
      "cell_type": "code",
      "execution_count": 17,
      "metadata": {
        "pycharm": {}
      },
      "outputs": [
        {
          "ename": "AssertionError",
          "evalue": "Expected call: mock(2)\nActual call: mock(1)",
          "output_type": "error",
          "traceback": [
            "\u001b[0;31m---------------------------------------------------------------------------\u001b[0m",
            "\u001b[0;31mAssertionError\u001b[0m                            Traceback (most recent call last)",
            "\u001b[0;32m\u003cipython-input-17-29347b5cf47f\u003e\u001b[0m in \u001b[0;36m\u003cmodule\u003e\u001b[0;34m\u001b[0m\n\u001b[0;32m----\u003e 1\u001b[0;31m \u001b[0mm\u001b[0m\u001b[0;34m.\u001b[0m\u001b[0massert_called_with\u001b[0m\u001b[0;34m(\u001b[0m\u001b[0;36m2\u001b[0m\u001b[0;34m)\u001b[0m\u001b[0;34m\u001b[0m\u001b[0;34m\u001b[0m\u001b[0m\n\u001b[0m",
            "\u001b[0;32m/usr/local/Cellar/python/3.7.3/Frameworks/Python.framework/Versions/3.7/lib/python3.7/unittest/mock.py\u001b[0m in \u001b[0;36massert_called_with\u001b[0;34m(_mock_self, *args, **kwargs)\u001b[0m\n\u001b[1;32m    827\u001b[0m         \u001b[0;32mif\u001b[0m \u001b[0mexpected\u001b[0m \u001b[0;34m!\u003d\u001b[0m \u001b[0mactual\u001b[0m\u001b[0;34m:\u001b[0m\u001b[0;34m\u001b[0m\u001b[0;34m\u001b[0m\u001b[0m\n\u001b[1;32m    828\u001b[0m             \u001b[0mcause\u001b[0m \u001b[0;34m\u003d\u001b[0m \u001b[0mexpected\u001b[0m \u001b[0;32mif\u001b[0m \u001b[0misinstance\u001b[0m\u001b[0;34m(\u001b[0m\u001b[0mexpected\u001b[0m\u001b[0;34m,\u001b[0m \u001b[0mException\u001b[0m\u001b[0;34m)\u001b[0m \u001b[0;32melse\u001b[0m \u001b[0;32mNone\u001b[0m\u001b[0;34m\u001b[0m\u001b[0;34m\u001b[0m\u001b[0m\n\u001b[0;32m--\u003e 829\u001b[0;31m             \u001b[0;32mraise\u001b[0m \u001b[0mAssertionError\u001b[0m\u001b[0;34m(\u001b[0m\u001b[0m_error_message\u001b[0m\u001b[0;34m(\u001b[0m\u001b[0;34m)\u001b[0m\u001b[0;34m)\u001b[0m \u001b[0;32mfrom\u001b[0m \u001b[0mcause\u001b[0m\u001b[0;34m\u001b[0m\u001b[0;34m\u001b[0m\u001b[0m\n\u001b[0m\u001b[1;32m    830\u001b[0m \u001b[0;34m\u001b[0m\u001b[0m\n\u001b[1;32m    831\u001b[0m \u001b[0;34m\u001b[0m\u001b[0m\n",
            "\u001b[0;31mAssertionError\u001b[0m: Expected call: mock(2)\nActual call: mock(1)"
          ]
        }
      ],
      "source": [
        "m.assert_called_with(2)"
      ]
    },
    {
      "cell_type": "markdown",
      "metadata": {
        "pycharm": {}
      },
      "source": [
        "### mock example using requests"
      ]
    },
    {
      "cell_type": "code",
      "execution_count": 18,
      "metadata": {
        "pycharm": {}
      },
      "outputs": [
        {
          "name": "stdout",
          "output_type": "stream",
          "text": [
            "Requirement already satisfied: requests in /Users/masaya/Dev/crop_and_analyze_pdf/.venv/lib/python3.7/site-packages (2.22.0)\n",
            "Requirement already satisfied: urllib3!\u003d1.25.0,!\u003d1.25.1,\u003c1.26,\u003e\u003d1.21.1 in /Users/masaya/Dev/crop_and_analyze_pdf/.venv/lib/python3.7/site-packages (from requests) (1.25.7)\n",
            "Requirement already satisfied: certifi\u003e\u003d2017.4.17 in /Users/masaya/Dev/crop_and_analyze_pdf/.venv/lib/python3.7/site-packages (from requests) (2019.9.11)\n",
            "Requirement already satisfied: chardet\u003c3.1.0,\u003e\u003d3.0.2 in /Users/masaya/Dev/crop_and_analyze_pdf/.venv/lib/python3.7/site-packages (from requests) (3.0.4)\n",
            "Requirement already satisfied: idna\u003c2.9,\u003e\u003d2.5 in /Users/masaya/Dev/crop_and_analyze_pdf/.venv/lib/python3.7/site-packages (from requests) (2.8)\n",
            "\u001b[33mWARNING: You are using pip version 19.2.3, however version 19.3.1 is available.\n",
            "You should consider upgrading via the \u0027pip install --upgrade pip\u0027 command.\u001b[0m\n"
          ]
        }
      ],
      "source": [
        "!pip install requests"
      ]
    },
    {
      "cell_type": "code",
      "execution_count": 19,
      "metadata": {
        "pycharm": {}
      },
      "outputs": [],
      "source": [
        "import requests\n",
        "def get_user_name(user, session):\n",
        "    url \u003d f\"https://api.github.com/users/{user}\"\n",
        "    response \u003d session.get(url)\n",
        "    json_response \u003d response.json()\n",
        "    return json_response[\"name\"]"
      ]
    },
    {
      "cell_type": "code",
      "execution_count": 20,
      "metadata": {
        "pycharm": {}
      },
      "outputs": [],
      "source": [
        "session \u003d requests.Session()"
      ]
    },
    {
      "cell_type": "code",
      "execution_count": 21,
      "metadata": {
        "pycharm": {}
      },
      "outputs": [
        {
          "data": {
            "text/plain": [
              "\u0027Masaya Shinki\u0027"
            ]
          },
          "execution_count": 21,
          "metadata": {},
          "output_type": "execute_result"
        }
      ],
      "source": [
        "get_user_name(\"masayas\", session)"
      ]
    },
    {
      "cell_type": "code",
      "execution_count": 22,
      "metadata": {
        "pycharm": {}
      },
      "outputs": [],
      "source": [
        "from unittest.mock import Mock"
      ]
    },
    {
      "cell_type": "code",
      "execution_count": 23,
      "metadata": {
        "pycharm": {}
      },
      "outputs": [],
      "source": [
        "spy \u003d Mock(wraps\u003dsession)"
      ]
    },
    {
      "cell_type": "code",
      "execution_count": 24,
      "metadata": {
        "pycharm": {}
      },
      "outputs": [
        {
          "data": {
            "text/plain": [
              "\u0027Masaya Shinki\u0027"
            ]
          },
          "execution_count": 24,
          "metadata": {},
          "output_type": "execute_result"
        }
      ],
      "source": [
        "get_user_name(\"masayas\", spy)"
      ]
    },
    {
      "cell_type": "code",
      "execution_count": 25,
      "metadata": {
        "pycharm": {}
      },
      "outputs": [
        {
          "data": {
            "text/plain": [
              "True"
            ]
          },
          "execution_count": 25,
          "metadata": {},
          "output_type": "execute_result"
        }
      ],
      "source": [
        "spy.get.called"
      ]
    },
    {
      "cell_type": "code",
      "execution_count": 26,
      "metadata": {
        "pycharm": {}
      },
      "outputs": [
        {
          "data": {
            "text/plain": [
              "call(\u0027https://api.github.com/users/masayas\u0027)"
            ]
          },
          "execution_count": 26,
          "metadata": {},
          "output_type": "execute_result"
        }
      ],
      "source": [
        "spy.get.call_args"
      ]
    },
    {
      "cell_type": "code",
      "execution_count": 27,
      "metadata": {
        "pycharm": {}
      },
      "outputs": [
        {
          "ename": "AssertionError",
          "evalue": "Expected call: get()\nActual call: get(\u0027https://api.github.com/users/masayas\u0027)",
          "output_type": "error",
          "traceback": [
            "\u001b[0;31m---------------------------------------------------------------------------\u001b[0m",
            "\u001b[0;31mAssertionError\u001b[0m                            Traceback (most recent call last)",
            "\u001b[0;32m\u003cipython-input-27-f6354ffa366e\u003e\u001b[0m in \u001b[0;36m\u003cmodule\u003e\u001b[0;34m\u001b[0m\n\u001b[0;32m----\u003e 1\u001b[0;31m \u001b[0mspy\u001b[0m\u001b[0;34m.\u001b[0m\u001b[0mget\u001b[0m\u001b[0;34m.\u001b[0m\u001b[0massert_called_with\u001b[0m\u001b[0;34m(\u001b[0m\u001b[0;34m)\u001b[0m\u001b[0;34m\u001b[0m\u001b[0;34m\u001b[0m\u001b[0m\n\u001b[0m",
            "\u001b[0;32m/usr/local/Cellar/python/3.7.3/Frameworks/Python.framework/Versions/3.7/lib/python3.7/unittest/mock.py\u001b[0m in \u001b[0;36massert_called_with\u001b[0;34m(_mock_self, *args, **kwargs)\u001b[0m\n\u001b[1;32m    827\u001b[0m         \u001b[0;32mif\u001b[0m \u001b[0mexpected\u001b[0m \u001b[0;34m!\u003d\u001b[0m \u001b[0mactual\u001b[0m\u001b[0;34m:\u001b[0m\u001b[0;34m\u001b[0m\u001b[0;34m\u001b[0m\u001b[0m\n\u001b[1;32m    828\u001b[0m             \u001b[0mcause\u001b[0m \u001b[0;34m\u003d\u001b[0m \u001b[0mexpected\u001b[0m \u001b[0;32mif\u001b[0m \u001b[0misinstance\u001b[0m\u001b[0;34m(\u001b[0m\u001b[0mexpected\u001b[0m\u001b[0;34m,\u001b[0m \u001b[0mException\u001b[0m\u001b[0;34m)\u001b[0m \u001b[0;32melse\u001b[0m \u001b[0;32mNone\u001b[0m\u001b[0;34m\u001b[0m\u001b[0;34m\u001b[0m\u001b[0m\n\u001b[0;32m--\u003e 829\u001b[0;31m             \u001b[0;32mraise\u001b[0m \u001b[0mAssertionError\u001b[0m\u001b[0;34m(\u001b[0m\u001b[0m_error_message\u001b[0m\u001b[0;34m(\u001b[0m\u001b[0;34m)\u001b[0m\u001b[0;34m)\u001b[0m \u001b[0;32mfrom\u001b[0m \u001b[0mcause\u001b[0m\u001b[0;34m\u001b[0m\u001b[0;34m\u001b[0m\u001b[0m\n\u001b[0m\u001b[1;32m    830\u001b[0m \u001b[0;34m\u001b[0m\u001b[0m\n\u001b[1;32m    831\u001b[0m \u001b[0;34m\u001b[0m\u001b[0m\n",
            "\u001b[0;31mAssertionError\u001b[0m: Expected call: get()\nActual call: get(\u0027https://api.github.com/users/masayas\u0027)"
          ]
        }
      ],
      "source": [
        "spy.get.assert_called_with()"
      ]
    },
    {
      "cell_type": "code",
      "execution_count": null,
      "metadata": {
        "pycharm": {}
      },
      "outputs": [],
      "source": [
        "from unittest.mock import MagicMock\n",
        "from requests import Session\n",
        "fake_session \u003d MagicMock(spec\u003dSession)\n",
        "response_payload \u003d {\"name\", \"Fake Name\"}"
      ]
    },
    {
      "cell_type": "raw",
      "metadata": {
        "pycharm": {}
      },
      "source": [
        "fake_session.get.return_value.json.return_value \u003d response_payload"
      ]
    },
    {
      "cell_type": "code",
      "execution_count": 28,
      "metadata": {
        "pycharm": {}
      },
      "outputs": [
        {
          "ename": "NameError",
          "evalue": "name \u0027fake_session\u0027 is not defined",
          "output_type": "error",
          "traceback": [
            "\u001b[0;31m---------------------------------------------------------------------------\u001b[0m",
            "\u001b[0;31mNameError\u001b[0m                                 Traceback (most recent call last)",
            "\u001b[0;32m\u003cipython-input-28-edc5fe579a3c\u003e\u001b[0m in \u001b[0;36m\u003cmodule\u003e\u001b[0;34m\u001b[0m\n\u001b[0;32m----\u003e 1\u001b[0;31m \u001b[0mget_user_name\u001b[0m\u001b[0;34m(\u001b[0m\u001b[0;34m\"masayas\"\u001b[0m\u001b[0;34m,\u001b[0m \u001b[0mfake_session\u001b[0m\u001b[0;34m)\u001b[0m\u001b[0;34m\u001b[0m\u001b[0;34m\u001b[0m\u001b[0m\n\u001b[0m",
            "\u001b[0;31mNameError\u001b[0m: name \u0027fake_session\u0027 is not defined"
          ]
        }
      ],
      "source": [
        "get_user_name(\"masayas\", fake_session)"
      ]
    },
    {
      "cell_type": "code",
      "execution_count": 29,
      "metadata": {
        "pycharm": {}
      },
      "outputs": [
        {
          "ename": "NameError",
          "evalue": "name \u0027Session\u0027 is not defined",
          "output_type": "error",
          "traceback": [
            "\u001b[0;31m---------------------------------------------------------------------------\u001b[0m",
            "\u001b[0;31mNameError\u001b[0m                                 Traceback (most recent call last)",
            "\u001b[0;32m\u003cipython-input-29-6b8d1f070f5c\u003e\u001b[0m in \u001b[0;36m\u003cmodule\u003e\u001b[0;34m\u001b[0m\n\u001b[0;32m----\u003e 1\u001b[0;31m \u001b[0mm\u001b[0m \u001b[0;34m\u003d\u001b[0m \u001b[0mMock\u001b[0m\u001b[0;34m(\u001b[0m\u001b[0mspec\u001b[0m\u001b[0;34m\u003d\u001b[0m\u001b[0mSession\u001b[0m\u001b[0;34m)\u001b[0m\u001b[0;34m\u001b[0m\u001b[0;34m\u001b[0m\u001b[0m\n\u001b[0m",
            "\u001b[0;31mNameError\u001b[0m: name \u0027Session\u0027 is not defined"
          ]
        }
      ],
      "source": [
        "m \u003d Mock(spec\u003dSession)"
      ]
    },
    {
      "cell_type": "markdown",
      "metadata": {
        "pycharm": {}
      },
      "source": [
        "### use of seal and how to patch"
      ]
    },
    {
      "cell_type": "code",
      "execution_count": 30,
      "metadata": {
        "pycharm": {}
      },
      "outputs": [],
      "source": [
        "import requests\n",
        "def get_user_name2(user):\n",
        "    url \u003d f\"https://api.github.com/users/{user}\"\n",
        "    session \u003d requests.Session()\n",
        "    response \u003d session.get(url)\n",
        "    json_response \u003d response.json()\n",
        "    return json_response[\"name\"]"
      ]
    },
    {
      "cell_type": "code",
      "execution_count": 31,
      "metadata": {
        "pycharm": {}
      },
      "outputs": [
        {
          "data": {
            "text/plain": [
              "\u0027Masaya Shinki\u0027"
            ]
          },
          "execution_count": 31,
          "metadata": {},
          "output_type": "execute_result"
        }
      ],
      "source": [
        "get_user_name2(\"masayas\")"
      ]
    },
    {
      "cell_type": "code",
      "execution_count": 32,
      "metadata": {
        "pycharm": {}
      },
      "outputs": [
        {
          "name": "stdout",
          "output_type": "stream",
          "text": [
            "Fake Name\n"
          ]
        }
      ],
      "source": [
        "# Here, requests.Session instance has been replaced with patch (i.e., MagicMock), so mock.return_value.hogehoge will replace  the return value\n",
        "from unittest.mock import patch, seal\n",
        "response_payload \u003d {\"name\": \"Fake Name\"}\n",
        "with patch(\"requests.Session\") as mock:\n",
        "    mock.return_value.get.return_value.json.return_value \u003d response_payload\n",
        "    seal(mock)\n",
        "    print(get_user_name2(\"masayas\"))"
      ]
    },
    {
      "cell_type": "markdown",
      "metadata": {
        "pycharm": {}
      },
      "source": [
        "# Understanding Patch"
      ]
    },
    {
      "cell_type": "code",
      "execution_count": 33,
      "metadata": {
        "pycharm": {}
      },
      "outputs": [
        {
          "name": "stdout",
          "output_type": "stream",
          "text": [
            "\u003cclass \u0027requests.sessions.Session\u0027\u003e\n",
            "patching started\n",
            "\u003cclass \u0027requests.sessions.Session\u0027\u003e\n",
            "\u003cMagicMock name\u003d\u0027Session\u0027 id\u003d\u00274397936824\u0027\u003e\n",
            "patching finished\n",
            "\u003cclass \u0027requests.sessions.Session\u0027\u003e\n"
          ]
        }
      ],
      "source": [
        "from requests import Session\n",
        "\n",
        "print(requests.Session)\n",
        "\n",
        "with patch(\"requests.Session\") as mock:\n",
        "    print(\"patching started\")\n",
        "    print(Session)  # since this is not patched, we would not see it as MagicMock\n",
        "    print(mock)\n",
        "    print(\"patching finished\")\n",
        "    \n",
        "print(requests.Session)\n",
        "   "
      ]
    },
    {
      "cell_type": "markdown",
      "metadata": {
        "pycharm": {}
      },
      "source": [
        "### import os example"
      ]
    },
    {
      "cell_type": "code",
      "execution_count": 34,
      "metadata": {
        "pycharm": {}
      },
      "outputs": [],
      "source": [
        "import os\n",
        "def get_user():\n",
        "    print(os.getenv(\"USER\"))\n"
      ]
    },
    {
      "cell_type": "code",
      "execution_count": 35,
      "metadata": {
        "pycharm": {}
      },
      "outputs": [
        {
          "name": "stdout",
          "output_type": "stream",
          "text": [
            "masaya\n"
          ]
        }
      ],
      "source": [
        "get_user()"
      ]
    },
    {
      "cell_type": "code",
      "execution_count": 36,
      "metadata": {
        "pycharm": {}
      },
      "outputs": [
        {
          "name": "stdout",
          "output_type": "stream",
          "text": [
            "root\n"
          ]
        }
      ],
      "source": [
        "with patch.dict(\"os.environ\", {\"USER\": \"root\"}):\n",
        "    get_user()"
      ]
    },
    {
      "cell_type": "markdown",
      "metadata": {
        "pycharm": {}
      },
      "source": [
        "# use of decorator and order of the arguments  "
      ]
    },
    {
      "cell_type": "code",
      "execution_count": 1,
      "metadata": {
        "pycharm": {
          "is_executing": false
        }
      },
      "outputs": [
        {
          "traceback": [
            "\u001b[0;31m---------------------------------------------------------------------------\u001b[0m",
            "\u001b[0;31mModuleNotFoundError\u001b[0m                       Traceback (most recent call last)",
            "\u001b[0;32m\u003cipython-input-1-e8384c861b20\u003e\u001b[0m in \u001b[0;36m\u003cmodule\u003e\u001b[0;34m\u001b[0m\n\u001b[0;32m----\u003e 1\u001b[0;31m \u001b[0;32mimport\u001b[0m \u001b[0mrequests\u001b[0m\u001b[0;34m\u001b[0m\u001b[0;34m\u001b[0m\u001b[0m\n\u001b[0m\u001b[1;32m      2\u001b[0m \u001b[0;32mdef\u001b[0m \u001b[0mget_user_name2\u001b[0m\u001b[0;34m(\u001b[0m\u001b[0muser\u001b[0m\u001b[0;34m)\u001b[0m\u001b[0;34m:\u001b[0m\u001b[0;34m\u001b[0m\u001b[0;34m\u001b[0m\u001b[0m\n\u001b[1;32m      3\u001b[0m     \u001b[0murl\u001b[0m \u001b[0;34m\u003d\u001b[0m \u001b[0;34mf\"https://api.github.com/users/{user}\"\u001b[0m\u001b[0;34m\u001b[0m\u001b[0;34m\u001b[0m\u001b[0m\n\u001b[1;32m      4\u001b[0m     \u001b[0msession\u001b[0m \u001b[0;34m\u003d\u001b[0m \u001b[0mrequests\u001b[0m\u001b[0;34m.\u001b[0m\u001b[0mSession\u001b[0m\u001b[0;34m(\u001b[0m\u001b[0;34m)\u001b[0m\u001b[0;34m\u001b[0m\u001b[0;34m\u001b[0m\u001b[0m\n\u001b[1;32m      5\u001b[0m     \u001b[0mresponse\u001b[0m \u001b[0;34m\u003d\u001b[0m \u001b[0msession\u001b[0m\u001b[0;34m.\u001b[0m\u001b[0mget\u001b[0m\u001b[0;34m(\u001b[0m\u001b[0murl\u001b[0m\u001b[0;34m)\u001b[0m\u001b[0;34m\u001b[0m\u001b[0;34m\u001b[0m\u001b[0m\n",
            "\u001b[0;31mModuleNotFoundError\u001b[0m: No module named \u0027requests\u0027"
          ],
          "ename": "ModuleNotFoundError",
          "evalue": "No module named \u0027requests\u0027",
          "output_type": "error"
        }
      ],
      "source": [
        "import requests\n",
        "def get_user_name2(user):\n",
        "    url \u003d f\"https://api.github.com/users/{user}\"\n",
        "    session \u003d requests.Session()\n",
        "    response \u003d session.get(url)\n",
        "    json_response \u003d response.json()\n",
        "    return json_response[\"name\"]\n",
        "\n",
        "\n",
        "# Note the order of arguments inside test()\n",
        "@patch(\"os.system\")\n",
        "@patch(\"requests.Session\")\n",
        "def test(mock_session, mock_system):\n",
        "    payload \u003d {\"name\": \"Secret User\"}\n",
        "    mock_session.return_value.get.return_value.json.return_value \u003d payload\n",
        "    print(get_user_name2(\"masayas\"))"
      ]
    },
    {
      "cell_type": "code",
      "execution_count": 38,
      "metadata": {
        "pycharm": {}
      },
      "outputs": [
        {
          "name": "stdout",
          "output_type": "stream",
          "text": [
            "Secret User\n"
          ]
        }
      ],
      "source": [
        "test()"
      ]
    },
    {
      "cell_type": "code",
      "execution_count": 39,
      "metadata": {
        "pycharm": {}
      },
      "outputs": [
        {
          "data": {
            "text/plain": [
              "\u0027Masaya Shinki\u0027"
            ]
          },
          "execution_count": 39,
          "metadata": {},
          "output_type": "execute_result"
        }
      ],
      "source": [
        "get_user_name2(\"masayas\")"
      ]
    },
    {
      "cell_type": "markdown",
      "metadata": {
        "pycharm": {}
      },
      "source": [
        "# another test"
      ]
    },
    {
      "cell_type": "code",
      "execution_count": 1,
      "metadata": {
        "pycharm": {}
      },
      "outputs": [],
      "source": [
        "class Pricer:\n",
        "\n",
        "    DISCOUNT \u003d 0.80\n",
        "\n",
        "    def get_discounted_price(self, price):\n",
        "        return price * self.DISCOUNT"
      ]
    },
    {
      "cell_type": "code",
      "execution_count": 6,
      "metadata": {
        "pycharm": {}
      },
      "outputs": [],
      "source": [
        "# from pricer import Pricer\n",
        "from unittest import TestCase, expectedFailure\n",
        "\n",
        "\n",
        "\n",
        "class TestClassAttribute(TestCase):\n",
        "\n",
        "    def test_patch_instance_attribute(self):\n",
        "        pricer \u003d Pricer()\n",
        "        pricer.DISCOUNT \u003d 0.5\n",
        "        self.assertAlmostEqual(pricer.get_discounted_price(100), 50.0)\n",
        "\n",
        "    def test_set_class_attribute(self):\n",
        "        Pricer.DISCOUNT \u003d 0.75\n",
        "        pricer \u003d Pricer()\n",
        "        self.assertAlmostEqual(pricer.get_discounted_price(100), 75.0)\n",
        "\n",
        "    @expectedFailure\n",
        "    def test_patch_incorrect_class_attribute(self):\n",
        "        with mock.patch.object(Pricer, \u0027PERCENTAGE\u0027, 1):\n",
        "            pricer \u003d Pricer()\n",
        "            self.assertAlmostEqual(pricer.get_discounted_price(100), 100)\n",
        "\n",
        "    def test_patch_class_attribute(self):\n",
        "        with mock.patch.object(Pricer, \u0027DISCOUNT\u0027, 1):\n",
        "            pricer \u003d Pricer()\n",
        "            self.assertAlmostEqual(pricer.get_discounted_price(100), 100)\n",
        "\n",
        "        self.assertAlmostEqual(pricer.get_discounted_price(100), 80)"
      ]
    },
    {
      "cell_type": "code",
      "execution_count": 9,
      "metadata": {
        "pycharm": {}
      },
      "outputs": [
        {
          "name": "stdout",
          "output_type": "stream",
          "text": [
            "\r\n",
            "----------------------------------------------------------------------\r\n",
            "Ran 0 tests in 0.000s\r\n",
            "\r\n",
            "OK\r\n"
          ]
        }
      ],
      "source": [
        "!python -m unittest"
      ]
    },
    {
      "cell_type": "code",
      "execution_count": null,
      "metadata": {
        "pycharm": {}
      },
      "outputs": [],
      "source": []
    }
  ],
  "metadata": {
    "kernelspec": {
      "display_name": "Python 3",
      "language": "python",
      "name": "python3"
    },
    "language_info": {
      "codemirror_mode": {
        "name": "ipython",
        "version": 3
      },
      "file_extension": ".py",
      "mimetype": "text/x-python",
      "name": "python",
      "nbconvert_exporter": "python",
      "pygments_lexer": "ipython3",
      "version": "3.7.3"
    }
  },
  "nbformat": 4,
  "nbformat_minor": 1
}